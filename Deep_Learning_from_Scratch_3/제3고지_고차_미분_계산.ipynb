{
 "metadata": {
  "language_info": {
   "codemirror_mode": {
    "name": "ipython",
    "version": 3
   },
   "file_extension": ".py",
   "mimetype": "text/x-python",
   "name": "python",
   "nbconvert_exporter": "python",
   "pygments_lexer": "ipython3",
   "version": "3.8.3-final"
  },
  "orig_nbformat": 2,
  "kernelspec": {
   "name": "python3",
   "display_name": "Python 3.8.3 64-bit (conda)",
   "metadata": {
    "interpreter": {
     "hash": "ccb6990895436216020d785f85e481171ea60264840962e2fdc91afe41f44499"
    }
   }
  }
 },
 "nbformat": 4,
 "nbformat_minor": 2,
 "cells": [
  {
   "source": [
    "### 25단계 계산 그래프 시각화(1)"
   ],
   "cell_type": "markdown",
   "metadata": {}
  },
  {
   "source": [
    "- Graphviz를 사용하여 계산 그래프를 시각화"
   ],
   "cell_type": "markdown",
   "metadata": {}
  },
  {
   "source": [
    "#### 25.1 Graphviz 설치하기"
   ],
   "cell_type": "markdown",
   "metadata": {}
  },
  {
   "source": [
    "[다운로드](http://graphviz.gitlab.io/download/)"
   ],
   "cell_type": "markdown",
   "metadata": {}
  },
  {
   "source": [
    "- 버전 확인\n",
    "```\n",
    "$ dot -V\n",
    "```"
   ],
   "cell_type": "markdown",
   "metadata": {}
  },
  {
   "source": [
    "- 파일 변환\n",
    "```\n",
    "$ dot sample.dot -T png -o sample.png\n",
    "```"
   ],
   "cell_type": "markdown",
   "metadata": {}
  },
  {
   "source": [
    "#### 25.2 DOT 언어로 그래프 작성하기"
   ],
   "cell_type": "markdown",
   "metadata": {}
  },
  {
   "source": [
    "- 편집기에서 테스트를 입력\n",
    "```\n",
    "digraph g{\n",
    "x\n",
    "y\n",
    "}\n",
    "```\n",
    "- 노드는 줄바꿈으로 구분\n",
    "- sample.dot 파일로 저장\n",
    "- 파일 변환 명령어 실행\n",
    "```\n",
    "$ dot sample.dot -T png -o sample.png\n",
    "```"
   ],
   "cell_type": "markdown",
   "metadata": {}
  },
  {
   "source": [
    "![](./image/25-1.png)"
   ],
   "cell_type": "markdown",
   "metadata": {}
  },
  {
   "source": [
    "#### 25.3 노드에 속성 지정하기"
   ],
   "cell_type": "markdown",
   "metadata": {}
  },
  {
   "source": [
    "- 노드에 '색'과 '모양'을 지정할 수 있음\n",
    "```\n",
    "digraph g{\n",
    "1 [label='x', color=orange, style=filled] # 오랜지색 채워진 타원형\n",
    "2 [label='y', color=orange, style=filled]\n",
    "3 [label='Exp', color=lightblue, style=filled, shape=box] # 파란색 사각형\n",
    "}\n",
    "```\n",
    "- 노드 ID는 0이상의 정수, 중복 x"
   ],
   "cell_type": "markdown",
   "metadata": {}
  },
  {
   "source": [
    "#### 25.4 노드 연결하기"
   ],
   "cell_type": "markdown",
   "metadata": {}
  },
  {
   "source": [
    "- ID를 '->'로 연결\n",
    "```\n",
    "digraph g{\n",
    "1 [label='x', color=orange, style=filled] # 오랜지색 채워진 타원형\n",
    "2 [label='y', color=orange, style=filled]\n",
    "3 [label='Exp', color=lightblue, style=filled, shape=box] # 파란색 사각형\n",
    "1 -> 3\n",
    "3 -> 2\n",
    "}\n",
    "```"
   ],
   "cell_type": "markdown",
   "metadata": {}
  },
  {
   "source": [
    "### 26단계 계산 그래프 시각화(2)"
   ],
   "cell_type": "markdown",
   "metadata": {}
  },
  {
   "source": [
    "- DeZero에서 실행한 계산을 DOT 언어로 변환하는 기능을 구현"
   ],
   "cell_type": "markdown",
   "metadata": {}
  },
  {
   "source": [
    "#### 26.1 시각화 코드 예"
   ],
   "cell_type": "markdown",
   "metadata": {}
  },
  {
   "source": [
    "- 시각화 함수 get_dot_graph를 dezero/utils.py에 구현"
   ],
   "cell_type": "markdown",
   "metadata": {}
  },
  {
   "source": [
    "#### 26.2 계산 그래프에서 DOT 언어로 변환하기"
   ],
   "cell_type": "markdown",
   "metadata": {}
  },
  {
   "cell_type": "code",
   "execution_count": 16,
   "metadata": {},
   "outputs": [],
   "source": [
    "def _dot_var(v, verbose=False):\n",
    "    dot_var = '{} [label=\"{}\", color=orange, style=filled]\\n'\n",
    "\n",
    "    name = '' if v.name is None else v.name\n",
    "    if verbose and v.data is not None:\n",
    "        if v.name is not None:\n",
    "            name += ': '\n",
    "        name += str(v.shape) + ' ' + str(v.dtype)\n",
    "\n",
    "    return dot_var.format(id(v), name)"
   ]
  },
  {
   "cell_type": "code",
   "execution_count": 18,
   "metadata": {},
   "outputs": [
    {
     "output_type": "stream",
     "name": "stdout",
     "text": [
      "1967699485312 [label=\"x\", color=orange, style=filled]\n\n1967699485312 [label=\"x: (2, 3) float64\", color=orange, style=filled]\n\n"
     ]
    }
   ],
   "source": [
    "# 사용 예\n",
    "x = Variable(np.random.randn(2, 3))\n",
    "x.name = 'x'\n",
    "print(_dot_var(x))\n",
    "print(_dot_var(x, verbose=True))"
   ]
  },
  {
   "source": [
    "- DeZero 함수를 DOT 언어로 변환하는 편의 함수"
   ],
   "cell_type": "markdown",
   "metadata": {}
  },
  {
   "cell_type": "code",
   "execution_count": 20,
   "metadata": {},
   "outputs": [],
   "source": [
    "def _dot_func(f):\n",
    "    # for function\n",
    "    dot_func = '{} [label=\"{}\", color=lightblue, style=filled, shape=box]\\n'\n",
    "    ret = dot_func.format(id(f), f.__class__.__name__)\n",
    "\n",
    "    # for edge\n",
    "    dot_edge = '{} -> {}\\n'\n",
    "    for x in f.inputs:\n",
    "        ret += dot_edge.format(id(x), id(f))\n",
    "    for y in f.outputs:  # y is weakref\n",
    "        ret += dot_edge.format(id(f), id(y()))\n",
    "    return ret"
   ]
  },
  {
   "cell_type": "code",
   "execution_count": 21,
   "metadata": {},
   "outputs": [
    {
     "output_type": "stream",
     "name": "stdout",
     "text": [
      "1967699042016 [label=\"Add\", color=lightblue, style=filled, shape=box]\n1967699041200 -> 1967699042016\n1967699039904 -> 1967699042016\n1967699042016 -> 1967699039184\n\n"
     ]
    }
   ],
   "source": [
    "x0 = Variable(np.array(1.0))\n",
    "x1 = Variable(np.array(1.0))\n",
    "y = x0 + x1\n",
    "txt = _dot_func(y.creator)\n",
    "print(txt)"
   ]
  },
  {
   "source": [
    "- get_dot_graph 함수 구현"
   ],
   "cell_type": "markdown",
   "metadata": {}
  },
  {
   "cell_type": "code",
   "execution_count": 24,
   "metadata": {},
   "outputs": [],
   "source": [
    "def get_dot_graph(output, verbose=True):\n",
    "    txt = ''\n",
    "    funcs = []\n",
    "    seen_set = set()\n",
    "\n",
    "    def add_func(f):\n",
    "        if f not in seen_set:\n",
    "            funcs.append(f)\n",
    "            # funcs.sort(key=lambda x: x.generation)\n",
    "            seen_set.add(f)\n",
    "\n",
    "    add_func(output.creator)\n",
    "    txt += _dot_var(output, verbose)\n",
    "\n",
    "    while funcs:\n",
    "        func = funcs.pop()\n",
    "        txt += _dot_func(func)\n",
    "        for x in func.inputs:\n",
    "            txt += _dot_var(x, verbose)\n",
    "\n",
    "            if x.creator is not None:\n",
    "                add_func(x.creator)\n",
    "\n",
    "    return 'digraph g {\\n' + txt + '}'"
   ]
  },
  {
   "source": [
    "- Variable 클래스의 backward 메서드와 거의 같음\n",
    "- backward 메서드는 미분값을 전파, 미분 대신 DOT 언어로 기술한 문자열을 txt에 추가"
   ],
   "cell_type": "markdown",
   "metadata": {}
  },
  {
   "source": [
    "#### 26.3 이미지 변환까지 한 번에"
   ],
   "cell_type": "markdown",
   "metadata": {}
  },
  {
   "source": [
    "def plot_dot_graph(output, verbose=True, to_file='graph.png'):\n",
    "    dot_graph = get_dot_graph(output, verbose)\n",
    "\n",
    "    # 1 dot 데이터를 파일에 저장\n",
    "    tmp_dir = os.path.join(os.path.expanduser('~'), '.dezero')\n",
    "f plot_dot_graph(output, verbose=True, to_file='graph.png'):\n",
    "    dot_graph = get_dot_graph(output, verbose)\n",
    "\n",
    "    # 1 dot 데이터를 파일에 저장\n",
    "    tmp_dir = os.path.join(os.path.expanduser('~'), '.dezero')\n",
    "    if not os.path.exists(tmp_dir): # ~/.dezero 디렉터리가 없다면 새로 생성\n",
    "        os.mkdir(tmp_dir)\n",
    "    graph_path = os.path.join(tmp_dir, 'tmp_graph.dot')\n",
    "\n",
    "    with open(graph_path, 'w') as f:\n",
    "        f.write(dot_graph)\n",
    "\n",
    "    # 2 dot 명령 호출\n",
    "    extension = os.path.splitext(to_file)[1][1:]  # Extension(e.g. png, pdf)\n",
    "    cmd = 'dot {} -T {} -o {}'.format(graph_path, extension, to_file)\n",
    "    subprocess.run(cmd, shell=True)\n",
    "\n",
    "    # Return the image as a Jupyter Image object, to be displayed in-line.\n",
    "    try:\n",
    "        from IPython import display\n",
    "        return display.Image(filename=to_file)\n",
    "    except:\n",
    "        pass"
   ],
   "cell_type": "code",
   "metadata": {},
   "execution_count": null,
   "outputs": []
  },
  {
   "source": [
    "- 1: 방금 구현한 get_dot_graph 함수를 호출하여 계산 그래프를 DOT 언어로 변환하고 파일에 저장\n",
    "- 2: 저장한 파일 이름을 지정하여 dot 명령을 호출, 이때 plot_dot_graph 함수의 인수인 to_file에 저장할 이미지 파일의 이름을 지정\n",
    "- 파이썬에서 외부 프로그램을 호출하기 위해 subprocess.run 함수를 사용"
   ],
   "cell_type": "markdown",
   "metadata": {}
  },
  {
   "cell_type": "code",
   "execution_count": 33,
   "metadata": {},
   "outputs": [],
   "source": [
    "'''\n",
    "Need the dot binary from the graphviz package (www.graphviz.org).\n",
    "'''\n",
    "if '__file__' in globals():\n",
    "    import os, sys\n",
    "    sys.path.append(os.path.join(os.path.dirname(__file__), '..'))\n",
    "import numpy as np\n",
    "from dezero import Variable\n",
    "from dezero.utils import plot_dot_graph\n",
    "\n",
    "\n",
    "def goldstein(x, y):\n",
    "    z = (1 + (x + y + 1)**2 * (19 - 14*x + 3*x**2 - 14*y + 6*x*y + 3*y**2)) * \\\n",
    "        (30 + (2*x - 3*y)**2 * (18 - 32*x + 12*x**2 + 48*y - 36*x*y + 27*y**2))\n",
    "    return z\n",
    "\n",
    "\n",
    "x = Variable(np.array(1.0))\n",
    "y = Variable(np.array(1.0))\n",
    "z = goldstein(x, y)\n",
    "z.backward()\n",
    "\n",
    "x.name = 'x'\n",
    "y.name = 'y'\n",
    "z.name = 'z'\n",
    "plot_dot_graph(z, verbose=False, to_file='goldstein.png')"
   ]
  },
  {
   "source": [
    "### 27단계 테일러 급수 미분"
   ],
   "cell_type": "markdown",
   "metadata": {}
  },
  {
   "source": [
    "- sin 함수를 DeZero로 구현, 그 미분을 테일러 급수를 이용해 계산"
   ],
   "cell_type": "markdown",
   "metadata": {}
  },
  {
   "source": [
    "#### 27.1 sin 함수 구현"
   ],
   "cell_type": "markdown",
   "metadata": {}
  },
  {
   "cell_type": "code",
   "execution_count": 35,
   "metadata": {},
   "outputs": [],
   "source": [
    "class Sin(Function):\n",
    "    def forward(self, x):\n",
    "        y = np.sin(x)\n",
    "        return y\n",
    "\n",
    "    def backward(self, gy):\n",
    "        x = self.inputs[0].data\n",
    "        gx = gy * np.cos(x)\n",
    "        return gx\n",
    "\n",
    "\n",
    "def sin(x):\n",
    "    return Sin()(x)"
   ]
  },
  {
   "cell_type": "code",
   "execution_count": 36,
   "metadata": {},
   "outputs": [
    {
     "output_type": "stream",
     "name": "stdout",
     "text": [
      "--- original sin ---\n0.7071067811865476\n0.7071067811865476\n"
     ]
    }
   ],
   "source": [
    "x = Variable(np.array(np.pi / 4))\n",
    "y = sin(x)\n",
    "y.backward()\n",
    "print('--- original sin ---')\n",
    "print(y.data)\n",
    "print(x.grad)"
   ]
  },
  {
   "source": [
    "#### 27.2 테일러 급수 이론"
   ],
   "cell_type": "markdown",
   "metadata": {}
  },
  {
   "source": [
    "- 테일러 급수란 어떤 함수를 다항식으로 근사하는 방법"
   ],
   "cell_type": "markdown",
   "metadata": {}
  },
  {
   "source": [
    "![](./image/27.1.png)"
   ],
   "cell_type": "markdown",
   "metadata": {}
  },
  {
   "source": [
    "#### 27.3 테일러 급수 구현"
   ],
   "cell_type": "markdown",
   "metadata": {}
  },
  {
   "source": [
    "- 계승 계산은 파이썬의 math 모듈에 있는 math.factorial 함수를 사용"
   ],
   "cell_type": "markdown",
   "metadata": {}
  },
  {
   "cell_type": "code",
   "execution_count": 39,
   "metadata": {},
   "outputs": [],
   "source": [
    "import math\n",
    "def my_sin(x, threshold=0.0001):\n",
    "    y = 0\n",
    "    for i in range(100000):\n",
    "        c = (-1) ** i / math.factorial(2 * i + 1)\n",
    "        t = c * x ** (2 * i + 1)\n",
    "        y = y + t\n",
    "        if abs(t.data) < threshold:\n",
    "            break\n",
    "    return y"
   ]
  },
  {
   "cell_type": "code",
   "execution_count": 40,
   "metadata": {},
   "outputs": [
    {
     "output_type": "stream",
     "name": "stdout",
     "text": [
      "--- approximate sin ---\n0.7071064695751781\n0.7071032148228457\n"
     ]
    }
   ],
   "source": [
    "x = Variable(np.array(np.pi / 4))\n",
    "y = my_sin(x)  # , threshold=1e-150)\n",
    "y.backward()\n",
    "print('--- approximate sin ---')\n",
    "print(y.data)\n",
    "print(x.grad)"
   ]
  },
  {
   "source": [
    "### 29단계 뉴턴 방법으로 푸는 최적화(수동계산)"
   ],
   "cell_type": "markdown",
   "metadata": {}
  },
  {
   "cell_type": "code",
   "execution_count": null,
   "metadata": {},
   "outputs": [],
   "source": []
  }
 ]
}