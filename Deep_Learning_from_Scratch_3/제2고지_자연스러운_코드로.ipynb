{
 "metadata": {
  "language_info": {
   "codemirror_mode": {
    "name": "ipython",
    "version": 3
   },
   "file_extension": ".py",
   "mimetype": "text/x-python",
   "name": "python",
   "nbconvert_exporter": "python",
   "pygments_lexer": "ipython3",
   "version": "3.8.3-final"
  },
  "orig_nbformat": 2,
  "kernelspec": {
   "name": "python3",
   "display_name": "Python 3.8.3 64-bit (conda)",
   "metadata": {
    "interpreter": {
     "hash": "ccb6990895436216020d785f85e481171ea60264840962e2fdc91afe41f44499"
    }
   }
  }
 },
 "nbformat": 4,
 "nbformat_minor": 2,
 "cells": [
  {
   "source": [
    "### 11단계 가변 길이 인수(순전파 편)"
   ],
   "cell_type": "markdown",
   "metadata": {}
  },
  {
   "source": [
    "- 가변 길이 입출력을 처리할 수 있도록 확장"
   ],
   "cell_type": "markdown",
   "metadata": {}
  },
  {
   "source": [
    "#### 11.1 Function 클래스 수정"
   ],
   "cell_type": "markdown",
   "metadata": {}
  },
  {
   "source": [
    "- 가변 길이 입출력을 표현하려면 변수들을 리스트(또는 튜플)에 넣어 처리하면 편함\n",
    "- Function 클래스는 지금까지처럼 '하나의 인수'만 받고 '하나의 값'만 반환\n",
    "- 대신 인수와 반환값의 타입을 리스트로 바꾸고, 필요한 변수들을 이 리스트에 넣음"
   ],
   "cell_type": "markdown",
   "metadata": {}
  },
  {
   "source": [
    "- 기존의 Function 메서드"
   ],
   "cell_type": "markdown",
   "metadata": {}
  },
  {
   "cell_type": "code",
   "execution_count": 3,
   "metadata": {},
   "outputs": [],
   "source": [
    "class Function:\n",
    "    def __call__(self, input):\n",
    "        x = input.data # Variable이라는 상자에서 실제 데이터를 꺼냄\n",
    "        y = self.forward(x) # forward 메서드에서 구체적인 계산\n",
    "        output = Variable(as_array(y)) # 계산 결과를 Variable에 넣음\n",
    "        output.set_creator(self) # 자신이 '창조자'라고 원산지 표시\n",
    "        self.input = input\n",
    "        self.output = output\n",
    "        return output\n",
    "\n",
    "    def forward(self, x):\n",
    "        raise NotImplementedError()\n",
    "\n",
    "    def backward(self, gy):\n",
    "        raise NotImplementedError()"
   ]
  },
  {
   "source": [
    "- `__call__`메서드의 인수와 반환값을 리스트로 바꿈"
   ],
   "cell_type": "markdown",
   "metadata": {}
  },
  {
   "cell_type": "code",
   "execution_count": 7,
   "metadata": {},
   "outputs": [],
   "source": [
    "class Function:\n",
    "    def __call__(self, inputs):\n",
    "        xs = [x.data for x in inputs]  # Get data from Variable\n",
    "        ys = self.forward(xs)\n",
    "        outputs = [Variable(as_array(y)) for y in ys]  # Wrap data\n",
    "\n",
    "        for output in outputs:\n",
    "            output.set_creator(self)\n",
    "        self.inputs = inputs\n",
    "        self.outputs = outputs\n",
    "        return outputs\n",
    "\n",
    "    def forward(self, xs):\n",
    "        raise NotImplementedError()\n",
    "\n",
    "    def backward(self, gys):\n",
    "        raise NotImplementedError()"
   ]
  },
  {
   "source": [
    "#### 11.2 Add 클래스 구현"
   ],
   "cell_type": "markdown",
   "metadata": {}
  },
  {
   "source": [
    "- 인수와 반환값이 리스트(또는 튜플)여야 한다는것을 주의하고 Add 클래스의 forward 메서드 구현"
   ],
   "cell_type": "markdown",
   "metadata": {}
  },
  {
   "cell_type": "code",
   "execution_count": 24,
   "metadata": {},
   "outputs": [],
   "source": [
    "class Add(Function):\n",
    "    def forward(self, xs):\n",
    "        x0, x1 = xs # 리스트 xs에서 원소 두개를 꺼냄\n",
    "        y = x0 + x1\n",
    "        return (y,) # 튜플형태로 반환(return y, 처럼 괄호는)"
   ]
  },
  {
   "source": [
    "- Add 클래스 사용"
   ],
   "cell_type": "markdown",
   "metadata": {}
  },
  {
   "cell_type": "code",
   "execution_count": 15,
   "metadata": {},
   "outputs": [
    {
     "output_type": "stream",
     "name": "stdout",
     "text": [
      "5\n"
     ]
    }
   ],
   "source": [
    "xs = [Variable(np.array(2)), Variable(np.array(3))]\n",
    "f = Add()\n",
    "ys = f(xs)\n",
    "y = ys[0]\n",
    "print(y.data)"
   ]
  },
  {
   "source": [
    "### 12단계 가변 길이 인수(개선 편)"
   ],
   "cell_type": "markdown",
   "metadata": {}
  },
  {
   "source": [
    "- 첫 번째: Add 클래스를 '사용하는 사람'을 위한 개선\n",
    "- 두 번째: Add 클래스를 '구현하는 사람'을 위한 개선"
   ],
   "cell_type": "markdown",
   "metadata": {}
  },
  {
   "source": [
    "#### 12.1 첫 번째 개선: 함수를 사용하기 쉽게"
   ],
   "cell_type": "markdown",
   "metadata": {}
  },
  {
   "cell_type": "code",
   "execution_count": 19,
   "metadata": {},
   "outputs": [],
   "source": [
    "class Function:\n",
    "    def __call__(self, *inputs): # 별표를 붙이면 리스트를 사용하는 대신 임의 개수의 인수를 건네 함수 호출\n",
    "        xs = [x.data for x in inputs]\n",
    "        ys = self.forward(xs)\n",
    "        outputs = [Variable(as_array(y)) for y in ys]\n",
    "\n",
    "        for output in outputs:\n",
    "            output.set_creator(self)\n",
    "        self.inputs = inputs\n",
    "        self.outputs = outputs\n",
    "        return outputs if len(outputs) > 1 else outputs[0] # 리스트의 원소가 하나라면 첫 번째 원소를 반환"
   ]
  },
  {
   "source": [
    "- 사용 예"
   ],
   "cell_type": "markdown",
   "metadata": {}
  },
  {
   "cell_type": "code",
   "execution_count": 21,
   "metadata": {},
   "outputs": [
    {
     "output_type": "stream",
     "name": "stdout",
     "text": [
      "(1, 2, 3)\n"
     ]
    }
   ],
   "source": [
    "def f(*x):\n",
    "    print(x)\n",
    "\n",
    "f(1, 2, 3)"
   ]
  },
  {
   "source": [
    "- 이 코드로 알 수 있듯이 함수를 '정의'할 때 인수에 별표를 붙이면 호출할 때 넘긴 인수들을 별표를 붙인 인수 하나로 모아서 받을 수 있다."
   ],
   "cell_type": "markdown",
   "metadata": {}
  },
  {
   "cell_type": "code",
   "execution_count": 25,
   "metadata": {},
   "outputs": [
    {
     "output_type": "stream",
     "name": "stdout",
     "text": [
      "5\n"
     ]
    }
   ],
   "source": [
    "x0 = Variable(np.array(2))\n",
    "x1 = Variable(np.array(3))\n",
    "f = Add()\n",
    "y = f(x0, x1)\n",
    "print(y.data)"
   ]
  },
  {
   "source": [
    "#### 12.2 두 번째 개선: 함수를 구현하기 쉽도록"
   ],
   "cell_type": "markdown",
   "metadata": {}
  },
  {
   "cell_type": "code",
   "execution_count": 29,
   "metadata": {},
   "outputs": [],
   "source": [
    "class Function:\n",
    "    def __call__(self, *inputs):\n",
    "        xs = [x.data for x in inputs]\n",
    "        ys = self.forward(*xs) # 별표를 붙여 언택\n",
    "        if not isinstance(ys, tuple): # 튜플이 아닌 경우 추가\n",
    "            ys = (ys,)\n",
    "        outputs = [Variable(as_array(y)) for y in ys]\n",
    "\n",
    "        for output in outputs:\n",
    "            output.set_creator(self)\n",
    "        self.inputs = inputs\n",
    "        self.outputs = outputs\n",
    "        return outputs if len(outputs) > 1 else outputs[0]"
   ]
  },
  {
   "source": [
    "class Add(Function):\n",
    "    def forward(self, x0, x1):\n",
    "        y = x0 + x1\n",
    "        return y"
   ],
   "cell_type": "code",
   "metadata": {},
   "execution_count": 30,
   "outputs": []
  },
  {
   "source": [
    "#### 12.3 add 함수 구현"
   ],
   "cell_type": "markdown",
   "metadata": {}
  },
  {
   "source": [
    "- Add 클래스를 '파이썬 함수'로 사용할 수 있는 코드를 추가"
   ],
   "cell_type": "markdown",
   "metadata": {}
  },
  {
   "cell_type": "code",
   "execution_count": 32,
   "metadata": {},
   "outputs": [],
   "source": [
    "def add(x0, x1):\n",
    "    return Add()(x0, x1)"
   ]
  },
  {
   "cell_type": "code",
   "execution_count": 33,
   "metadata": {},
   "outputs": [
    {
     "output_type": "stream",
     "name": "stdout",
     "text": [
      "5\n"
     ]
    }
   ],
   "source": [
    "x0 = Variable(np.array(2))\n",
    "x1 = Variable(np.array(3))\n",
    "y = add(x0, x1)\n",
    "print(y.data)"
   ]
  },
  {
   "source": [
    "### 13단계 가변 길이 인수(역전파 편)"
   ],
   "cell_type": "markdown",
   "metadata": {}
  },
  {
   "source": [
    "#### 13.1 가변 길이 인수에 대응한 Add 클래스의 역전파"
   ],
   "cell_type": "markdown",
   "metadata": {}
  },
  {
   "source": [
    "- 입력 변수가 여러개인 함수를 다변수 함수라 함\n",
    "- 다변수 함수에서 하나의 입력 변수에만 주목하여(다른 변수는 상수로 취급) 미분하는 것을 편미분이라 함"
   ],
   "cell_type": "markdown",
   "metadata": {}
  },
  {
   "cell_type": "code",
   "execution_count": 35,
   "metadata": {},
   "outputs": [],
   "source": [
    "class Add(Function):\n",
    "    def forward(self, x0, x1):\n",
    "        y = x0 + x1\n",
    "        return y\n",
    "\n",
    "    def backward(self, gy): # 입력 1개\n",
    "        return gy, gy # 출력 2개"
   ]
  },
  {
   "source": [
    "- 여러 개의 값을 반환할 수 있게 하려면 Variable 클래스의 backward 메서드를 수정"
   ],
   "cell_type": "markdown",
   "metadata": {}
  },
  {
   "source": [
    "#### 13.2 Variable 클래스 수정"
   ],
   "cell_type": "markdown",
   "metadata": {}
  },
  {
   "cell_type": "code",
   "execution_count": 38,
   "metadata": {},
   "outputs": [],
   "source": [
    "class Variable:\n",
    "    def __init__(self, data):\n",
    "        if data is not None:\n",
    "            if not isinstance(data, np.ndarray):\n",
    "                raise TypeError('{} is not supported'.format(type(data)))\n",
    "\n",
    "        self.data = data\n",
    "        self.grad = None\n",
    "        self.creator = None\n",
    "\n",
    "    def set_creator(self, func):\n",
    "        self.creator = func\n",
    "\n",
    "    def backward(self):\n",
    "        if self.grad is None:\n",
    "            self.grad = np.ones_like(self.data)\n",
    "\n",
    "        funcs = [self.creator]\n",
    "        while funcs:\n",
    "            f = funcs.pop()\n",
    "            gys = [output.grad for output in f.outputs] # 출력 변수인 outputs에 담겨 있는 미분값들을 리스트에 담음\n",
    "            gxs = f.backward(*gys) # 함수 f의 역전파를 호출, f.backward(*gys)처럼 인수에 별표를 붙여 호출하여 리스트를 풀어줌\n",
    "            if not isinstance(gxs, tuple): # gxs가 튜플이 아니면 튜플로 변환\n",
    "                gxs = (gxs,)\n",
    "\n",
    "            for x, gx in zip(f.inputs, gxs): # 역전파로 전파되는 미분값을 Variable의 인스턴스 변수 grad에 저장, gxs와 f.inputs의 각 원소는 서로 대응 관계\n",
    "                x.grad = gx\n",
    "\n",
    "                if x.creator is not None:\n",
    "                    funcs.append(x.creator)"
   ]
  },
  {
   "source": [
    "#### 13.3 Square 클래스 구현"
   ],
   "cell_type": "markdown",
   "metadata": {}
  },
  {
   "cell_type": "code",
   "execution_count": 41,
   "metadata": {},
   "outputs": [],
   "source": [
    "class Square(Function):\n",
    "    def forward(self, x):\n",
    "        y = x ** 2\n",
    "        return y\n",
    "\n",
    "    def backward(self, gy):\n",
    "        x = self.inputs[0].data # 수정 전 : x = self.input.data\n",
    "        gx = 2 * x * gy\n",
    "        return gx"
   ]
  },
  {
   "source": [
    "- add 함수와 square 함수를 사용해보자"
   ],
   "cell_type": "markdown",
   "metadata": {}
  },
  {
   "cell_type": "code",
   "execution_count": 44,
   "metadata": {},
   "outputs": [
    {
     "output_type": "stream",
     "name": "stdout",
     "text": [
      "13.0\n4.0\n6.0\n"
     ]
    }
   ],
   "source": [
    "x = Variable(np.array(2.0))\n",
    "y = Variable(np.array(3.0))\n",
    "\n",
    "z = add(square(x), square(y))\n",
    "z.backward()\n",
    "print(z.data)\n",
    "print(x.grad)\n",
    "print(y.grad)"
   ]
  },
  {
   "source": [
    "### 14단계 같은 변수 반복 사용"
   ],
   "cell_type": "markdown",
   "metadata": {}
  },
  {
   "source": [
    "- 같은 변수를 반복해서 사용할 셩우 의도대로 동작하지 않을 수 있음, 예) y = add(x, x)"
   ],
   "cell_type": "markdown",
   "metadata": {}
  },
  {
   "cell_type": "code",
   "execution_count": 46,
   "metadata": {},
   "outputs": [
    {
     "output_type": "stream",
     "name": "stdout",
     "text": [
      "y 6.0\nx.grad 1.0\n"
     ]
    }
   ],
   "source": [
    "x = Variable(np.array(3.0))\n",
    "y = add(x, x)\n",
    "print('y', y.data)\n",
    "\n",
    "y.backward()\n",
    "print('x.grad', x.grad)"
   ]
  },
  {
   "source": [
    "- 동일한 변수를 사용하여 덧셈을 하면 제대로 미분하지 못함"
   ],
   "cell_type": "markdown",
   "metadata": {}
  },
  {
   "source": [
    "#### 14.1 문제의 원인"
   ],
   "cell_type": "markdown",
   "metadata": {}
  },
  {
   "cell_type": "code",
   "execution_count": 48,
   "metadata": {},
   "outputs": [],
   "source": [
    "class Variable:\n",
    "    def __init__(self, data):\n",
    "        if data is not None:\n",
    "            if not isinstance(data, np.ndarray):\n",
    "                raise TypeError('{} is not supported'.format(type(data)))\n",
    "\n",
    "        self.data = data\n",
    "        self.grad = None\n",
    "        self.creator = None\n",
    "\n",
    "    def set_creator(self, func):\n",
    "        self.creator = func\n",
    "\n",
    "    def backward(self):\n",
    "        if self.grad is None:\n",
    "            self.grad = np.ones_like(self.data)\n",
    "\n",
    "        funcs = [self.creator]\n",
    "        while funcs:\n",
    "            f = funcs.pop()\n",
    "            gys = [output.grad for output in f.outputs]\n",
    "            gxs = f.backward(*gys)\n",
    "            if not isinstance(gxs, tuple):\n",
    "                gxs = (gxs,)\n",
    "\n",
    "            for x, gx in zip(f.inputs, gxs):\n",
    "                x.grad = gx # 1\n",
    "\n",
    "                if x.creator is not None:\n",
    "                    funcs.append(x.creator)\n"
   ]
  },
  {
   "source": [
    "- 1 : 출력 쪽에서 전해지는 미분값을 그대로 대입, 같은 변수를 반복해서 사용하면 전파되는 미분값이 덮어 써짐"
   ],
   "cell_type": "markdown",
   "metadata": {}
  },
  {
   "source": [
    "#### 14.2 해결책"
   ],
   "cell_type": "markdown",
   "metadata": {}
  },
  {
   "cell_type": "code",
   "execution_count": 60,
   "metadata": {},
   "outputs": [],
   "source": [
    "class Variable:\n",
    "    def __init__(self, data):\n",
    "        if data is not None:\n",
    "            if not isinstance(data, np.ndarray):\n",
    "                raise TypeError('{} is not supported'.format(type(data)))\n",
    "\n",
    "        self.data = data\n",
    "        self.grad = None\n",
    "        self.creator = None\n",
    "\n",
    "    def set_creator(self, func):\n",
    "        self.creator = func\n",
    "\n",
    "    def backward(self):\n",
    "        if self.grad is None:\n",
    "            self.grad = np.ones_like(self.data)\n",
    "\n",
    "        funcs = [self.creator]\n",
    "        while funcs:\n",
    "            f = funcs.pop()\n",
    "            gys = [output.grad for output in f.outputs]\n",
    "            gxs = f.backward(*gys)\n",
    "            if not isinstance(gxs, tuple):\n",
    "                gxs = (gxs,)\n",
    "\n",
    "            for x, gx in zip(f.inputs, gxs):\n",
    "                if x.grad is None: # 1\n",
    "                    x.grad = gx\n",
    "                else:\n",
    "                    x.grad = x.grad + gx\n",
    "\n",
    "                if x.creator is not None:\n",
    "                    funcs.append(x.creator)"
   ]
  },
  {
   "source": [
    "- 1 : 미분값이 더해지도록 수정"
   ],
   "cell_type": "markdown",
   "metadata": {}
  },
  {
   "cell_type": "code",
   "execution_count": 61,
   "metadata": {},
   "outputs": [
    {
     "output_type": "stream",
     "name": "stdout",
     "text": [
      "x.grad 2.0\n"
     ]
    }
   ],
   "source": [
    "x = Variable(np.array(3.0))\n",
    "y = add(x, x)\n",
    "y.backward()\n",
    "print('x.grad', x.grad)"
   ]
  },
  {
   "cell_type": "code",
   "execution_count": 62,
   "metadata": {},
   "outputs": [
    {
     "output_type": "stream",
     "name": "stdout",
     "text": [
      "x.grad 3.0\n"
     ]
    }
   ],
   "source": [
    "x = Variable(np.array(3.0))\n",
    "y = add(add(x, x), x)\n",
    "y.backward()\n",
    "print('x.grad', x.grad)"
   ]
  },
  {
   "source": [
    "#### 14.3 미분값 재설정"
   ],
   "cell_type": "markdown",
   "metadata": {}
  },
  {
   "cell_type": "code",
   "execution_count": 63,
   "metadata": {},
   "outputs": [
    {
     "output_type": "stream",
     "name": "stdout",
     "text": [
      "x.grad 2.0\nx.grad 5.0\n"
     ]
    }
   ],
   "source": [
    "# 첫 번째 계산\n",
    "x = Variable(np.array(3.0))\n",
    "y = add(x, x)\n",
    "y.backward()\n",
    "print('x.grad', x.grad)\n",
    "\n",
    "# 두 번째 계산(같은 x를 사용하여 다른 계산을)\n",
    "y = add(add(x, x), x)\n",
    "y.backward()\n",
    "print('x.grad', x.grad)"
   ]
  },
  {
   "source": [
    "- 값은 변수를 사용하여 '다른' 계산을 할 경우 계산이 꼬이는 문제 발생"
   ],
   "cell_type": "markdown",
   "metadata": {}
  },
  {
   "cell_type": "code",
   "execution_count": 66,
   "metadata": {},
   "outputs": [],
   "source": [
    "class Variable:\n",
    "    def __init__(self, data):\n",
    "        if data is not None:\n",
    "            if not isinstance(data, np.ndarray):\n",
    "                raise TypeError('{} is not supported'.format(type(data)))\n",
    "\n",
    "        self.data = data\n",
    "        self.grad = None\n",
    "        self.creator = None\n",
    "\n",
    "    def set_creator(self, func):\n",
    "        self.creator = func\n",
    "\n",
    "    def cleargrad(self): # 1\n",
    "        self.grad = None\n",
    "\n",
    "    def backward(self):\n",
    "        if self.grad is None:\n",
    "            self.grad = np.ones_like(self.data)\n",
    "\n",
    "        funcs = [self.creator]\n",
    "        while funcs:\n",
    "            f = funcs.pop()\n",
    "            gys = [output.grad for output in f.outputs]\n",
    "            gxs = f.backward(*gys)\n",
    "            if not isinstance(gxs, tuple):\n",
    "                gxs = (gxs,)\n",
    "\n",
    "            for x, gx in zip(f.inputs, gxs):\n",
    "                if x.grad is None:\n",
    "                    x.grad = gx\n",
    "                else:\n",
    "                    x.grad = x.grad + gx\n",
    "\n",
    "                if x.creator is not None:\n",
    "                    funcs.append(x.creator)"
   ]
  },
  {
   "source": [
    "- 1 : 미분값을 초기화하는 cleargrad 메서드를 추가"
   ],
   "cell_type": "markdown",
   "metadata": {}
  },
  {
   "cell_type": "code",
   "execution_count": 70,
   "metadata": {},
   "outputs": [
    {
     "output_type": "stream",
     "name": "stdout",
     "text": [
      "x.grad 2.0\nx.grad 3.0\n"
     ]
    }
   ],
   "source": [
    "# 첫 번째 계산\n",
    "x = Variable(np.array(3.0))\n",
    "y = add(x, x)\n",
    "y.backward()\n",
    "print('x.grad', x.grad)\n",
    "\n",
    "# 두 번째 계산(같은 x를 사용하여 다른 계산을)\n",
    "x.cleargrad() # 미분값\n",
    "y = add(add(x, x), x)\n",
    "y.backward()\n",
    "print('x.grad', x.grad)"
   ]
  },
  {
   "source": [
    "- 두 번째 backward() 호출 전 cleargrad()호출 하면 변수에 누적된 미분값이 초기화되어 문제 해결"
   ],
   "cell_type": "markdown",
   "metadata": {}
  },
  {
   "source": [
    "### 15단계 복잡한 계산 그래프(이론 편) "
   ],
   "cell_type": "markdown",
   "metadata": {}
  },
  {
   "source": [
    "- 변수와 함수가 꼭 한줄로 연결되리라는 법은 없음\n",
    "- 같은 변수를 반복해서 사용하거나 여러 변수를 입력받는 함수를 사용하는 계산을 살 후 있음\n",
    "- 그래프의 '연결된 형태'를 위상(topology)이라 함"
   ],
   "cell_type": "markdown",
   "metadata": {}
  },
  {
   "source": [
    "#### 15.3 함수 우선순위"
   ],
   "cell_type": "markdown",
   "metadata": {}
  },
  {
   "source": [
    "- 지금까지는 funcs 리스트에서 '마지막' 원소만 꺼냄\n",
    "- 리스트에서 적절한 함수를 꺼낼 수 있어야함\n",
    "- 함수에 '우선순위'를 줄 수 있어야함"
   ],
   "cell_type": "markdown",
   "metadata": {}
  },
  {
   "source": [
    "### 16단계 복잡한 계산 그래프(구현 편)"
   ],
   "cell_type": "markdown",
   "metadata": {}
  },
  {
   "source": [
    "#### 16.1 세대 추가"
   ],
   "cell_type": "markdown",
   "metadata": {}
  },
  {
   "source": [
    "- Variable 클래스와 Function 클래스에 인스턴스 변수 generation을 추가"
   ],
   "cell_type": "markdown",
   "metadata": {}
  },
  {
   "cell_type": "code",
   "execution_count": 3,
   "metadata": {},
   "outputs": [],
   "source": [
    "class Variable:\n",
    "    def __init__(self, data):\n",
    "        if data is not None:\n",
    "            if not isinstance(data, np.ndarray):\n",
    "                raise TypeError('{} is not supported'.format(type(data)))\n",
    "\n",
    "        self.data = data\n",
    "        self.grad = None\n",
    "        self.creator = None\n",
    "        self.generation = 0 # 세대 수를 기록하는 변수\n",
    "\n",
    "    def set_creator(self, func):\n",
    "        self.creator = func\n",
    "        self.generation = func.generation + 1 # 세대를 기록한다(부모세대 + 1)"
   ]
  },
  {
   "source": [
    "- Variable 클래스는 generation을 0으로 초기화\n",
    "- set_creator 메서드가 호출될 때 부보 함수의 세대보다 1만큼 큰 값을 설정"
   ],
   "cell_type": "markdown",
   "metadata": {}
  },
  {
   "cell_type": "code",
   "execution_count": 5,
   "metadata": {},
   "outputs": [],
   "source": [
    "class Function:\n",
    "    def __call__(self, *inputs):\n",
    "        xs = [x.data for x in inputs]\n",
    "        ys = self.forward(*xs)\n",
    "        if not isinstance(ys, tuple):\n",
    "            ys = (ys,)\n",
    "        outputs = [Variable(as_array(y)) for y in ys]\n",
    "\n",
    "        self.generation = max([x.generation for x in inputs]) # 1\n",
    "        for output in outputs:\n",
    "            output.set_creator(self)\n",
    "        self.inputs = inputs\n",
    "        self.outputs = outputs\n",
    "        return outputs if len(outputs) > 1 else outputs[0]"
   ]
  },
  {
   "source": [
    "- 1: 입력 변수가 둘 이상이면 가장 큰 generation의 수를 설정"
   ],
   "cell_type": "markdown",
   "metadata": {}
  },
  {
   "source": [
    "#### 16.3 Variable 클래스의 backward"
   ],
   "cell_type": "markdown",
   "metadata": {}
  },
  {
   "source": [
    "class Variable:\n",
    "    def __init__(self, data):\n",
    "        if data is not None:\n",
    "            if not isinstance(data, np.ndarray):\n",
    "                raise TypeError('{} is not supported'.format(type(data)))\n",
    "\n",
    "        self.data = data\n",
    "        self.grad = None\n",
    "        self.creator = None\n",
    "        self.generation = 0\n",
    "\n",
    "    def set_creator(self, func):\n",
    "        self.creator = func\n",
    "        self.generation = func.generation + 1\n",
    "\n",
    "    def cleargrad(self):\n",
    "        self.grad = None\n",
    "\n",
    "    def backward(self):\n",
    "        if self.grad is None:\n",
    "            self.grad = np.ones_like(self.data)\n",
    "\n",
    "        funcs = []\n",
    "        seen_set = set()\n",
    "\n",
    "        def add_func(f):\n",
    "            if f not in seen_set:\n",
    "                funcs.append(f)\n",
    "                seen_set.add(f)\n",
    "                funcs.sort(key=lambda x: x.generation)\n",
    "\n",
    "        add_func(self.creator)\n",
    "\n",
    "        while funcs:\n",
    "            f = funcs.pop()\n",
    "            gys = [output.grad for output in f.outputs]\n",
    "            gxs = f.backward(*gys)\n",
    "            if not isinstance(gxs, tuple):\n",
    "                gxs = (gxs,)\n",
    "\n",
    "            for x, gx in zip(f.inputs, gxs):\n",
    "                if x.grad is None:\n",
    "                    x.grad = gx\n",
    "                else:\n",
    "                    x.grad = x.grad + gx\n",
    "\n",
    "                if x.creator is not None:\n",
    "                    add_func(x.creator) # 수정 전 : funcs.append(x.creator)"
   ],
   "cell_type": "code",
   "metadata": {},
   "execution_count": 8,
   "outputs": []
  },
  {
   "source": [
    "- add_func 함수 추가\n",
    "- 리스트에 투가 할 때 funcs.append(f)를 호출했는데, 대신 add_func함수를 호출하도록 변경\n",
    "- add_func 함수가 리스트를 세대 순으로 정렬하는 역할\n",
    "- funcs.pop()은 자동으로 세대가 가장 큰 함수를 꺼냄\n",
    "- add_func 함수를 backward 메서드 안에 중첩 함수로 정의\n",
    "    - 감싸는 메서드 안에서만 이용\n",
    "    - 감싸는 메서드에 정의된 변수를 사용"
   ],
   "cell_type": "markdown",
   "metadata": {}
  },
  {
   "source": [
    "### 17단계 메모리 관리와 순환 참조"
   ],
   "cell_type": "markdown",
   "metadata": {}
  },
  {
   "source": [
    "- 파이썬 코드를 실행하는 프로그램을 파이썬 인프리터라 함\n",
    "- 파이썬 인프리터 표준은 CPython\n",
    "- 메모리 관리 설명은 CPython을 기준으로 함"
   ],
   "cell_type": "markdown",
   "metadata": {}
  },
  {
   "source": [
    "#### 17.1 메모리 관리"
   ],
   "cell_type": "markdown",
   "metadata": {}
  },
  {
   "source": [
    "- 파이썬은 필요 없어진 객체를 메모리에서 자동 삭제\n",
    "- 코드를 제대로 작성하지 않으면 메모리 누수 또는 메모리 부족 문제 발생\n",
    "- 메모리 관리는 두 가지 방식으로 진행\n",
    "    - 참조 수를 세는 방식(참조 카운터)\n",
    "    - 세대를 기준으로 쓸모없어진 객체를 회수하는 방식(가비지 컬렉션)"
   ],
   "cell_type": "markdown",
   "metadata": {}
  },
  {
   "source": [
    "#### 17.2 참조 카운터 방식의 메모리 관리"
   ],
   "cell_type": "markdown",
   "metadata": {}
  },
  {
   "source": [
    "- 참조 카운트는 구조가 간단하고 속도가 빠름\n",
    "- 모든 객체는 참소 카운트가 0인 생태로 생성, 다른 객체가 참조할 때마다 1씩 증가\n",
    "- 반대로 객체에 대한 참조가 끊길 때마다 1만큼 감소, 0이 되면 파이썬 인프리터가 회수\n",
    "- 이런 방식으로 객체가 더 이상 필요 없어지면 즉시 메모리 삭제\n",
    "- 가령 다음과 같은 경우에 참조 카운트가 증가\n",
    "    - 대입 연산자를 사용할 때\n",
    "    - 함수에 인수로 전달할 때\n",
    "    - 컨테이너 타입 객체에 추가할 때"
   ],
   "cell_type": "markdown",
   "metadata": {}
  },
  {
   "source": [
    "#### 17.3 참조 순환"
   ],
   "cell_type": "markdown",
   "metadata": {}
  },
  {
   "source": [
    "- 객체가 원 모양을 이루며 서로가 서로를 참조\n",
    "- 어느 것에도 접근 불가\n",
    "- 순환 참조의 참조 카운트가 0이 되지 않고, 메모리서 삭제가 안됨\n",
    "- 그래서 '세대별 가비지 컬렉션'이 등장"
   ],
   "cell_type": "markdown",
   "metadata": {}
  },
  {
   "source": [
    "#### 17.4 weakref 모듈"
   ],
   "cell_type": "markdown",
   "metadata": {}
  },
  {
   "source": [
    "- 파이썬에서 weakref.ref 함수를 사용하여 약한 참조를 만들수 있음\n",
    "- 약한 참조란 다른 객체를 참조하되 참조 카운트는 증가시키지 않는 기능"
   ],
   "cell_type": "markdown",
   "metadata": {}
  },
  {
   "cell_type": "code",
   "execution_count": 23,
   "metadata": {},
   "outputs": [],
   "source": [
    "import weakref\n",
    "\n",
    "class Function:\n",
    "    def __call__(self, *inputs):\n",
    "        xs = [x.data for x in inputs]\n",
    "        ys = self.forward(*xs)\n",
    "        if not isinstance(ys, tuple):\n",
    "            ys = (ys,)\n",
    "        outputs = [Variable(as_array(y)) for y in ys]\n",
    "\n",
    "        self.generation = max([x.generation for x in inputs])\n",
    "        for output in outputs:\n",
    "            output.set_creator(self)\n",
    "        self.inputs = inputs\n",
    "        self.outputs = [weakref.ref(output) for output in outputs] # 1\n",
    "        return outputs if len(outputs) > 1 else outputs[0]\n",
    "\n",
    "    def forward(self, xs):\n",
    "        raise NotImplementedError()\n",
    "\n",
    "    def backward(self, gys):\n",
    "        raise NotImplementedError()"
   ]
  },
  {
   "source": [
    "- 1: 인스턴스 변수 self.outputs가 대상을 약한 참조로 가리키세 변경"
   ],
   "cell_type": "markdown",
   "metadata": {}
  },
  {
   "cell_type": "code",
   "execution_count": 24,
   "metadata": {},
   "outputs": [],
   "source": [
    "class Variable:\n",
    "    # ...\n",
    "    def backward(self):\n",
    "        # ...\n",
    "        while funcs:\n",
    "            f = funcs.pop()\n",
    "            gys = [output().grad for output in f.outputs]  # output is weakref\n",
    "        # ..."
   ]
  },
  {
   "source": [
    "- Function 클래스의 outputs를 참조하는 Variable 코드 수정"
   ],
   "cell_type": "markdown",
   "metadata": {}
  },
  {
   "source": [
    "### 18단계 메모리 절약 모드"
   ],
   "cell_type": "markdown",
   "metadata": {}
  },
  {
   "source": [
    "- 역전파 시 불필요한 미분 결과를 보관하지 않고 즉시 삭제\n",
    "- '역전파가 필요 없는 경우용 모드'를 제고해 불필요한 계산 생략"
   ],
   "cell_type": "markdown",
   "metadata": {}
  },
  {
   "source": [
    "#### 18.1 필요 없는 미분값 삭제"
   ],
   "cell_type": "markdown",
   "metadata": {}
  },
  {
   "cell_type": "code",
   "execution_count": 26,
   "metadata": {},
   "outputs": [],
   "source": [
    "class Variable:\n",
    "    # ...\n",
    "    def backward(self, retain_grad=False): # 1\n",
    "        if self.grad is None:\n",
    "            self.grad = np.ones_like(self.data)\n",
    "\n",
    "        funcs = []\n",
    "        seen_set = set()\n",
    "\n",
    "        def add_func(f):\n",
    "            if f not in seen_set:\n",
    "                funcs.append(f)\n",
    "                seen_set.add(f)\n",
    "                funcs.sort(key=lambda x: x.generation)\n",
    "\n",
    "        add_func(self.creator)\n",
    "\n",
    "        while funcs:\n",
    "            f = funcs.pop()\n",
    "            gys = [output().grad for output in f.outputs]  # output is weakref\n",
    "            gxs = f.backward(*gys)\n",
    "            if not isinstance(gxs, tuple):\n",
    "                gxs = (gxs,)\n",
    "\n",
    "            for x, gx in zip(f.inputs, gxs):\n",
    "                if x.grad is None:\n",
    "                    x.grad = gx\n",
    "                else:\n",
    "                    x.grad = x.grad + gx\n",
    "\n",
    "                if x.creator is not None:\n",
    "                    add_func(x.creator)\n",
    "\n",
    "            if not retain_grad: # 2\n",
    "                for y in f.outputs:\n",
    "                    y().grad = None  # y is weakref"
   ]
  },
  {
   "source": [
    "- 1: 메서드 인수에 retain_grad를 추가, True면 모든 변수가 미분 결과 유지, False면 중간 변수의 미분값을 모두 None으로 설정\n",
    "- 2: 각 함수의 출렵 변수의 미분값을 유지하지 않도록 y().grad = None으로 설정, y가 약한 참조라 코드가 실해되면 참조 카운트가 0이 되어 미분값 데이터가 메모리에서 삭제"
   ],
   "cell_type": "markdown",
   "metadata": {}
  },
  {
   "source": [
    "- 신경망에는 학습(training)과 추론(inference)이라는 두 가지 단계가 있음\n",
    "- 학습 시에는 미분값을 구해야 하지만, 추론 시에는 단순히 순전파만 하기 때문에 중간 계산 결과를 곧바로 버리면 메모리 사용량이 크게 줄일 수 있음"
   ],
   "cell_type": "markdown",
   "metadata": {}
  },
  {
   "source": [
    "#### 18.3 Config 클래스를 활용한 모드 전환"
   ],
   "cell_type": "markdown",
   "metadata": {}
  },
  {
   "source": [
    "- '역전파 활성 모드'와 '역전파 비활성 모드'를 전환하는 구조가 필요"
   ],
   "cell_type": "markdown",
   "metadata": {}
  },
  {
   "cell_type": "code",
   "execution_count": 28,
   "metadata": {},
   "outputs": [],
   "source": [
    "class Config:\n",
    "    enable_backprop = True # True 면 '역전파 활성 모드'"
   ]
  },
  {
   "source": [
    "- 설정 데이터는 단 한 군데에만 존재하는게 좋음\n",
    "- 그래서 Config 클래스는 인스턴스화 하지 않고 '클래스' 상태로 이용\n",
    "- 인스턴스는 여러 개 생성할 수 있지만 클래스는 항상 하나만 존재"
   ],
   "cell_type": "markdown",
   "metadata": {}
  },
  {
   "source": [
    "class Function:\n",
    "    def __call__(self, *inputs):\n",
    "        xs = [x.data for x in inputs]\n",
    "        ys = self.forward(*xs)\n",
    "        if not isinstance(ys, tuple):\n",
    "            ys = (ys,)\n",
    "        outputs = [Variable(as_array(y)) for y in ys]\n",
    "\n",
    "        if Config.enable_backprop:\n",
    "            self.generation = max([x.generation for x in inputs]) # 1 세대 설정\n",
    "            for output in outputs:\n",
    "          for output in outputs:\n",
    "                output.set_creator(self) # 2 연결 설정\n",
    "            self.inputs = inputs\n",
    "            self.outputs = [weakref.ref(output) for output in outputs]\n",
    "\n",
    "        return outputs if len(outputs) > 1 else outputs[0]"
   ],
   "cell_type": "code",
   "metadata": {},
   "execution_count": null,
   "outputs": []
  },
  {
   "source": [
    "- Config.enable_backprop이 True일 때만 역전파 코드가 실행\n",
    "- 1: '세대'는 역전파 시 노드를 따라가는 순서를 정한느데 사용, '역전파 비활성 모드'에서는 필요하지 않음\n",
    "- 2: output.set_creator(self)는 계산들의 '연결'을 만드는데, 마찬가지로 '역전파 비활성 모드'에서는 불필요"
   ],
   "cell_type": "markdown",
   "metadata": {}
  },
  {
   "source": [
    "#### 18.5 with 문을 활용한 모드 전환"
   ],
   "cell_type": "markdown",
   "metadata": {}
  },
  {
   "source": [
    "- 파이썬에는 후처리를 자동으로 수행하고자 할 때 사용할 수 있는 구문인 with이 있음\n",
    "- with 문을 사용하는 것으로 'with 블록에 들어갈 때의 처리(전처리)'와 'with 블록을 빠져나올 때의 처리(후처리)'를 자동으로 할 수 있음"
   ],
   "cell_type": "markdown",
   "metadata": {}
  },
  {
   "source": [
    "with using_config('enable_backprop', False):\n",
    "    x = Variable(np.array(2.0))\n",
    "    y = square(x)"
   ],
   "cell_type": "code",
   "metadata": {},
   "execution_count": null,
   "outputs": []
  },
  {
   "source": [
    "- with using_config('enable_backprop', False): 안에서만 '역전파 비활성 모드'가 됨\n",
    "- with 블록을 벗어나면 일반모드, 즉 '역전파 활성 모드'로 돌아감"
   ],
   "cell_type": "markdown",
   "metadata": {}
  },
  {
   "source": [
    "- with 문을 사용한 모든 전환 구현은 contextlib 모듈을 사용하면 가장 쉽게 구현할 수 있음"
   ],
   "cell_type": "markdown",
   "metadata": {}
  },
  {
   "cell_type": "code",
   "execution_count": 38,
   "metadata": {},
   "outputs": [
    {
     "output_type": "stream",
     "name": "stdout",
     "text": [
      "start\nprocess...\ndone\n"
     ]
    }
   ],
   "source": [
    "import contextlib\n",
    "\n",
    "@contextlib.contextmanager\n",
    "def config_test():\n",
    "    print('start') # 전처리\n",
    "    try:\n",
    "        yield\n",
    "    finally:\n",
    "        print('done') # 후처리\n",
    "\n",
    "with config_test():\n",
    "    print('process...')"
   ]
  },
  {
   "source": [
    "- @contextlib.contextmanager 데코레이터를 달면 문맥을 판단한느 함수가 만들어짐\n",
    "- 이 함수 안에서 yield 전에는 전처리 로직을, yield 다음에는 후처리 로직을 작성"
   ],
   "cell_type": "markdown",
   "metadata": {}
  },
  {
   "source": [
    "- using_config 함수 구현"
   ],
   "cell_type": "markdown",
   "metadata": {}
  },
  {
   "cell_type": "code",
   "execution_count": 40,
   "metadata": {},
   "outputs": [],
   "source": [
    "import contextlib\n",
    "\n",
    "class Config:\n",
    "    enable_backprop = True\n",
    "\n",
    "@contextlib.contextmanager\n",
    "def using_config(name, value):\n",
    "    old_value = getattr(Config, name)\n",
    "    setattr(Config, name, value)\n",
    "    try:\n",
    "        yield\n",
    "    finally:\n",
    "        setattr(Config, name, old_value)"
   ]
  },
  {
   "source": [
    "- name은 타입이 str, 사용할 Config 속성의 이름을 가리킴\n",
    "- name을 getattr 함수에 넘겨 Config 클래스에서 꺼내온 다음 setattr 함수를 사용하여 새로운 값을 설정\n",
    "- with 블록에 들어갈 때 name으로 지정한 Config 클래스 속성이 value로 설정\n",
    "- with 블록을 빠져나오면서 원래값(old_value)으로 복원"
   ],
   "cell_type": "markdown",
   "metadata": {}
  },
  {
   "cell_type": "code",
   "execution_count": 46,
   "metadata": {},
   "outputs": [],
   "source": [
    "with using_config('enable_backprop', False):\n",
    "    x = Variable(np.array(2.0))\n",
    "    y = square(x)"
   ]
  },
  {
   "source": [
    "- 역전파가 필요 없는 경우 with 블록에서 순전파 코드만 실행\n",
    "- 불필요한 계산을 생략하고 메모리 절약"
   ],
   "cell_type": "markdown",
   "metadata": {}
  },
  {
   "cell_type": "code",
   "execution_count": 48,
   "metadata": {},
   "outputs": [],
   "source": [
    "def no_grad():\n",
    "    return using_config('enable_backprop', False)\n",
    "\n",
    "with no_grad():\n",
    "    x = Variable(np.array(2.0))\n",
    "    y = square(x)"
   ]
  },
  {
   "source": [
    "- no_grad 함수는 단순히 using_config('enable_backprop', False)를 호출하는 코드를 return, 편의 함수"
   ],
   "cell_type": "markdown",
   "metadata": {}
  },
  {
   "source": [
    "### 19단계 변수 사용성 개선"
   ],
   "cell_type": "markdown",
   "metadata": {}
  },
  {
   "source": [
    "- DeZero를 더 쉽게 사용하도록 개선"
   ],
   "cell_type": "markdown",
   "metadata": {}
  },
  {
   "source": [
    "#### 19.1 변수 이름 지정"
   ],
   "cell_type": "markdown",
   "metadata": {}
  },
  {
   "source": [
    "- 많은 변수를 처리하기 때문에 변수들을 서로 구분할 필요가 있음\n",
    "- Variable 클래스에 name이라는 인스턴스 변수를 추가해 변수에 '이름'을 붙여줄 수 있도록 설정"
   ],
   "cell_type": "markdown",
   "metadata": {}
  },
  {
   "cell_type": "code",
   "execution_count": 50,
   "metadata": {},
   "outputs": [],
   "source": [
    "class Variable:\n",
    "    def __init__(self, data, name=None):\n",
    "        if data is not None:\n",
    "            if not isinstance(data, np.ndarray):\n",
    "                raise TypeError('{} is not supported'.format(type(data)))\n",
    "\n",
    "        self.data = data\n",
    "        self.name = name\n",
    "        self.grad = None\n",
    "        self.creator = None\n",
    "        self.generation = 0"
   ]
  },
  {
   "source": [
    "- 변수에 이름을 붙일 수 있다면, 계산 그래프를 시각화할 때 변수 이름을 그래프에 표시할 수 있음"
   ],
   "cell_type": "markdown",
   "metadata": {}
  },
  {
   "source": [
    "#### 19.2 ndarray 인스턴스 함수"
   ],
   "cell_type": "markdown",
   "metadata": {}
  },
  {
   "source": [
    "- Variable 클래스는 스칼라는 무시하고 ndarray만 취급하기로 함\n",
    "- Variable 인스턴스를 ndarray 인스턴스 처럼 보이게 함"
   ],
   "cell_type": "markdown",
   "metadata": {}
  },
  {
   "cell_type": "code",
   "execution_count": 52,
   "metadata": {},
   "outputs": [
    {
     "output_type": "execute_result",
     "data": {
      "text/plain": [
       "(2, 3)"
      ]
     },
     "metadata": {},
     "execution_count": 52
    }
   ],
   "source": [
    "import numpy as np\n",
    "x = np.array([[1, 2, 3],[4, 5, 6]])\n",
    "x.shape"
   ]
  },
  {
   "source": [
    "- shape는 다차원 배열의 형상을 알려줌\n",
    "- Variable 인스턴스에서도 할 수 있도록 확장"
   ],
   "cell_type": "markdown",
   "metadata": {}
  },
  {
   "cell_type": "code",
   "execution_count": 54,
   "metadata": {},
   "outputs": [],
   "source": [
    "class Variable:\n",
    "    # ...\n",
    "    @property\n",
    "    def shape(self):\n",
    "        return self.data.shape"
   ]
  },
  {
   "source": [
    "- shape라는 메서드를 추가한 후 실제 데이터의 shape를 반환하도록 함\n",
    "- @property 덕분에 shape 메서드를 인스턴스 변수처럼 사용할 수 있게 됨"
   ],
   "cell_type": "markdown",
   "metadata": {}
  },
  {
   "cell_type": "code",
   "execution_count": 58,
   "metadata": {},
   "outputs": [
    {
     "output_type": "stream",
     "name": "stdout",
     "text": [
      "(2, 3)\n"
     ]
    }
   ],
   "source": [
    "x = Variable(np.array([[1, 2, 3], [4, 5, 6]]))\n",
    "print(x.shape)"
   ]
  },
  {
   "source": [
    "- ndarray의 다른 인스턴스 변수들을 추가"
   ],
   "cell_type": "markdown",
   "metadata": {}
  },
  {
   "source": [
    "class Variable:\n",
    "    # ... \n",
    "    @property\n",
    "    def shape(self):\n",
    "        return self.data.shape\n",
    "\n",
    "    @property\n",
    "    def ndim(self):\n",
    "        return self.data.ndim\n",
    "\n",
    "    @property\n",
    "    def size(self):\n",
    "        return self.data.size\n",
    "\n",
    "    @property\n",
    "    def dtype(self):\n",
    "        return self.data.dtype"
   ],
   "cell_type": "code",
   "metadata": {},
   "execution_count": null,
   "outputs": []
  },
  {
   "source": [
    "- ndim: 차원 수, size: 원소 수, dtype: 데이터 타입"
   ],
   "cell_type": "markdown",
   "metadata": {}
  },
  {
   "source": [
    "#### 19.3 len 함수와 print 함수"
   ],
   "cell_type": "markdown",
   "metadata": {}
  },
  {
   "cell_type": "code",
   "execution_count": null,
   "metadata": {},
   "outputs": [],
   "source": [
    "class Variable:\n",
    "    # ... \n",
    "    def __len__(self):\n",
    "        return len(self.data)"
   ]
  },
  {
   "source": [
    "- `__len__`이라는 특수 메서드를 구현하면 Variable 인스턴스에 대해서도 len 함수를 사용할 수 있음"
   ],
   "cell_type": "markdown",
   "metadata": {}
  },
  {
   "source": [
    "class Variable:\n",
    "    # ... \n",
    "    def __repr__(self):\n",
    "        if self.data is None:\n",
    "            return 'variable(None)'\n",
    "        p = str(self.data).replace('\\n', '\\n' + ' ' * 9)\n",
    "        return 'variable(' + p + ')'"
   ],
   "cell_type": "code",
   "metadata": {},
   "execution_count": null,
   "outputs": []
  },
  {
   "source": [
    "- print 함수가 출력해주는 문자열을 입맛에 맞게 정의하려면 `__repr__`메서드를 재정의하면 됨"
   ],
   "cell_type": "markdown",
   "metadata": {}
  },
  {
   "source": [
    "### 20단계 연산자 오버로드(1)"
   ],
   "cell_type": "markdown",
   "metadata": {}
  },
  {
   "source": [
    "- `+`와 `*`연산자를 지원하도록 확장"
   ],
   "cell_type": "markdown",
   "metadata": {}
  },
  {
   "source": [
    "#### 20.1 Mul 클래스 구현"
   ],
   "cell_type": "markdown",
   "metadata": {}
  },
  {
   "cell_type": "code",
   "execution_count": 64,
   "metadata": {},
   "outputs": [],
   "source": [
    "class Mul(Function):\n",
    "    def forward(self, x0, x1):\n",
    "        y = x0 * x1\n",
    "        return y\n",
    "\n",
    "    def backward(self, gy):\n",
    "        x0, x1 = self.inputs[0].data, self.inputs[1].data\n",
    "        return gy * x1, gy * x0"
   ]
  },
  {
   "source": [
    "- 파이썬 함수로 사용할 수 있도록 함"
   ],
   "cell_type": "markdown",
   "metadata": {}
  },
  {
   "cell_type": "code",
   "execution_count": 66,
   "metadata": {},
   "outputs": [],
   "source": [
    "def mul(x0, x1):\n",
    "    return Mul()(x0, x1)"
   ]
  },
  {
   "source": [
    "#### 20.2 연산자 오버로드"
   ],
   "cell_type": "markdown",
   "metadata": {}
  },
  {
   "source": [
    "- `__mul__`메서드를 정의(구현)하면 * 연산자를 사용할 때 `__mul__`메서드가 호출 됨"
   ],
   "cell_type": "markdown",
   "metadata": {}
  },
  {
   "cell_type": "code",
   "execution_count": null,
   "metadata": {},
   "outputs": [],
   "source": [
    "class Variable:\n",
    "    # ... \n",
    "    \n",
    "Variable.__add__ = add\n",
    "Variable.__mul__ = mul"
   ]
  },
  {
   "source": [
    "### 21단계 연산자 오버로드(2)"
   ],
   "cell_type": "markdown",
   "metadata": {}
  },
  {
   "source": [
    "- Variable  인스턴스와 ndarray 인스턴스, int와 float 등도 함께 사용할 수 있도록 확장"
   ],
   "cell_type": "markdown",
   "metadata": {}
  },
  {
   "source": [
    "#### 21.1 ndarray와 함께 사용하기"
   ],
   "cell_type": "markdown",
   "metadata": {}
  },
  {
   "cell_type": "code",
   "execution_count": 69,
   "metadata": {},
   "outputs": [],
   "source": [
    "def as_variable(obj):\n",
    "    if isinstance(obj, Variable):\n",
    "        return obj\n",
    "    return Variable(obj)"
   ]
  },
  {
   "source": [
    "- 자동으로 Variable 인스턴스로 변환해주는 편의 함수\n",
    "- 인수 obj가 Variable 인스턴스 또는 ndarray 인스턴스라고 가정\n",
    "- obj가 Variable 인스턴스면 그대로 반환, 아니면 Variable 인스턴스로 변환 후 반환"
   ],
   "cell_type": "markdown",
   "metadata": {}
  },
  {
   "cell_type": "code",
   "execution_count": 72,
   "metadata": {},
   "outputs": [],
   "source": [
    "class Function:\n",
    "    def __call__(self, *inputs):\n",
    "        inputs = [as_variable(x) for x in inputs]\n",
    "\n",
    "        xs = [x.data for x in inputs]\n",
    "        ys = self.forward(*xs)"
   ]
  },
  {
   "source": [
    "- inputs에 담긴 각각의 원소 x를 Variable 인스턴스로 변환\n",
    "- ndarray 인스턴스가 주어지면 Variable 인스턴스로 변환"
   ],
   "cell_type": "markdown",
   "metadata": {}
  },
  {
   "source": [
    "#### 21.2 float, int와 함께 사용하기"
   ],
   "cell_type": "markdown",
   "metadata": {}
  },
  {
   "cell_type": "code",
   "execution_count": null,
   "metadata": {},
   "outputs": [],
   "source": [
    "def add(x0, x1):\n",
    "    x1 = as_array(x1)\n",
    "    return Add()(x0, x1)"
   ]
  },
  {
   "source": [
    "- as_array 함수를 사용해 float나 int인 경우 ndarray 인스턴스로 변환\n",
    "- ndarray 인스턴스는 Function 클래스에서 Variable인스턴스로 변환"
   ],
   "cell_type": "markdown",
   "metadata": {}
  },
  {
   "source": [
    "#### 21.3 문제점 1: 첫 번째 인수가 float나 int인 경우"
   ],
   "cell_type": "markdown",
   "metadata": {}
  },
  {
   "source": [
    "- 이항 연산자의 경우 피연산자(항)의 위치에 따라 호출되는 특수 메서드가 다름\n",
    "- 곱셍의 경우 피연산자가 좌항이면 `__mul__`메서드 호출, 우향이면 `__rmul__`메서드 호출해 해결"
   ],
   "cell_type": "markdown",
   "metadata": {}
  },
  {
   "cell_type": "code",
   "execution_count": 75,
   "metadata": {},
   "outputs": [],
   "source": [
    "Variable.__add__ = add\n",
    "Variable.__radd__ = add\n",
    "Variable.__mul__ = mul\n",
    "Variable.__rmul__ = mul"
   ]
  },
  {
   "source": [
    "#### 21.4 문제점 2: 좌항이 ndarray 인스턴스인 경우"
   ],
   "cell_type": "markdown",
   "metadata": {}
  },
  {
   "source": [
    "- 좌항이 ndarray 인스턴스고 우항이 Variable 인스턴스인 경우, 좌항인 ndarray 인스턴스의 `__add__`메서드가 호출 됨\n",
    "- 우항인 Variable 인스턴스의 `__radd__`메서드가 호출되려면 '연산자 우선수위'를 지정해야 함"
   ],
   "cell_type": "markdown",
   "metadata": {}
  },
  {
   "cell_type": "code",
   "execution_count": null,
   "metadata": {},
   "outputs": [],
   "source": [
    "class Variable:\n",
    "ass Variable:\n",
    "    __array_priority__ = 200 # Variable 인스턴스의 연산자 우선순위를 ndarray 인스턴스의 연산자 우선수위 보다 높임\n",
    "    # ..."
   ]
  },
  {
   "source": [
    "- 좌항이 ndarray 인스턴스라 해도 우항인 Variable 인스턴스의 연산자 메서드가 우선적으로 호출"
   ],
   "cell_type": "markdown",
   "metadata": {}
  },
  {
   "source": [
    "### 22단계 연산자 오버로드(3)"
   ],
   "cell_type": "markdown",
   "metadata": {}
  },
  {
   "source": [
    "- 새로운 연산자를 추가하는 순서\n",
    "    - Function 클래스를 상속하여 원하는 함수 클래스를 구현\n",
    "    - 파이썬 함수로 사용할 수 있도록 함\n",
    "    - Variable 클래스의 연산자를 오버로드 함"
   ],
   "cell_type": "markdown",
   "metadata": {}
  },
  {
   "source": [
    "#### 22.1 음수(부호 변환)"
   ],
   "cell_type": "markdown",
   "metadata": {}
  },
  {
   "source": [
    "- 역전파는 상류(출력 쪽)에서 전해지는 미분에 -1을 곱하여 하류로 흘려보내 주면 됨"
   ],
   "cell_type": "markdown",
   "metadata": {}
  },
  {
   "cell_type": "code",
   "execution_count": 79,
   "metadata": {},
   "outputs": [],
   "source": [
    "class Neg(Function):\n",
    "    def forward(self, x):\n",
    "        return -x\n",
    "\n",
    "    def backward(self, gy):\n",
    "        return -gy\n",
    "\n",
    "\n",
    "def neg(x):\n",
    "    return Neg()(x)\n",
    "\n",
    "Variable.__neg__ = neg"
   ]
  },
  {
   "source": [
    "#### 22.2 뺄셈"
   ],
   "cell_type": "markdown",
   "metadata": {}
  },
  {
   "source": [
    "- 역전파는 상류에서 전해지는 미분값에 1을 곱한 값이 x0의 미분 결과가 되며, -1을 곱한 값이 x1의 미분 결과가 됨"
   ],
   "cell_type": "markdown",
   "metadata": {}
  },
  {
   "cell_type": "code",
   "execution_count": 81,
   "metadata": {},
   "outputs": [],
   "source": [
    "class Sub(Function):\n",
    "    def forward(self, x0, x1):\n",
    "        y = x0 - x1\n",
    "        return y\n",
    "\n",
    "    def backward(self, gy):\n",
    "        return gy, -gy\n",
    "\n",
    "\n",
    "def sub(x0, x1):\n",
    "    x1 = as_array(x1)\n",
    "    return Sub()(x0, x1)\n",
    "\n",
    "Variable.__sub__ = sub"
   ]
  },
  {
   "source": [
    "- 좌항이 Variable 인스턴스가 아닌 경우 `__rsub__`메서드가 호출 되어야 함"
   ],
   "cell_type": "markdown",
   "metadata": {}
  },
  {
   "cell_type": "code",
   "execution_count": 83,
   "metadata": {},
   "outputs": [],
   "source": [
    "def rsub(x0, x1):\n",
    "    x1 = as_array(x1)\n",
    "    return sub(x1, x0)\n",
    "\n",
    "Variable.__rsub__ = rsub"
   ]
  },
  {
   "source": [
    "#### 22.3 나눗셈"
   ],
   "cell_type": "markdown",
   "metadata": {}
  },
  {
   "cell_type": "code",
   "execution_count": 88,
   "metadata": {},
   "outputs": [],
   "source": [
    "class Div(Function):\n",
    "    def forward(self, x0, x1):\n",
    "        y = x0 / x1\n",
    "        return y\n",
    "\n",
    "    def backward(self, gy):\n",
    "        x0, x1 = self.inputs[0].data, self.inputs[1].data\n",
    "        gx0 = gy / x1\n",
    "        gx1 = gy * (-x0 / x1 ** 2)\n",
    "        return gx0, gx1\n",
    "\n",
    "\n",
    "def div(x0, x1):\n",
    "    x1 = as_array(x1)\n",
    "    return Div()(x0, x1)\n",
    "\n",
    "\n",
    "def rdiv(x0, x1):\n",
    "    x1 = as_array(x1)\n",
    "    return div(x1, x0) # x0와 x1의 순서를 바꾼다.\n",
    "\n",
    "Variable.__truediv__ = div\n",
    "Variable.__rtruediv__ = rdiv"
   ]
  },
  {
   "source": [
    "#### 22.4 거듭제곱"
   ],
   "cell_type": "markdown",
   "metadata": {}
  },
  {
   "source": [
    "- 이 책에서는 밑이 x인 경우만 미분"
   ],
   "cell_type": "markdown",
   "metadata": {}
  },
  {
   "cell_type": "code",
   "execution_count": 90,
   "metadata": {},
   "outputs": [],
   "source": [
    "class Pow(Function):\n",
    "    def __init__(self, c):\n",
    "        self.c = c\n",
    "\n",
    "    def forward(self, x):\n",
    "        y = x ** self.c\n",
    "        return y\n",
    "\n",
    "    def backward(self, gy):\n",
    "        x = self.inputs[0].data\n",
    "        c = self.c\n",
    "\n",
    "        gx = c * x ** (c - 1) * gy\n",
    "        return gx\n",
    "\n",
    "\n",
    "def pow(x, c):\n",
    "    return Pow(c)(x)\n",
    "\n",
    "Variable.__pow__ = pow"
   ]
  },
  {
   "source": [
    "- Pow 클래스를 초기화할 때 지수 c를 제공\n",
    "- 순전파 메서드인 forward(x)는 밑에 해당하는 x만(즉, 하나의 항만) 받게 함"
   ],
   "cell_type": "markdown",
   "metadata": {}
  },
  {
   "source": [
    "### 23단계 패키지로 정리"
   ],
   "cell_type": "markdown",
   "metadata": {}
  },
  {
   "source": [
    "### 24단계 복잡한 함수의 미분"
   ],
   "cell_type": "markdown",
   "metadata": {}
  },
  {
   "source": [
    "#### 24.1 Sphere 함수"
   ],
   "cell_type": "markdown",
   "metadata": {}
  },
  {
   "source": [
    "- 단순희 두 개의 입력 변수를 제곱하여 더하는 변수"
   ],
   "cell_type": "markdown",
   "metadata": {}
  },
  {
   "cell_type": "code",
   "execution_count": 2,
   "metadata": {},
   "outputs": [
    {
     "output_type": "stream",
     "name": "stdout",
     "text": [
      "2.0 2.0\n"
     ]
    }
   ],
   "source": [
    "import numpy as np\n",
    "from dezero import Variable\n",
    "\n",
    "def sphere(x, y):\n",
    "    z = x ** 2 + y ** 2\n",
    "    return z\n",
    "\n",
    "x = Variable(np.array(1.0))\n",
    "y = Variable(np.array(1.0))\n",
    "z = sphere(x, y)\n",
    "z.backward()\n",
    "print(x.grad, y.grad)"
   ]
  },
  {
   "source": [
    "#### 24.2 matyas 함수"
   ],
   "cell_type": "markdown",
   "metadata": {}
  },
  {
   "cell_type": "code",
   "execution_count": 5,
   "metadata": {},
   "outputs": [
    {
     "output_type": "stream",
     "name": "stdout",
     "text": [
      "0.040000000000000036 0.040000000000000036\n"
     ]
    }
   ],
   "source": [
    "def matyas(x, y):\n",
    "    z = 0.26 * (x ** 2 + y ** 2) - 0.48 * x * y\n",
    "    return z\n",
    "\n",
    "x = Variable(np.array(1.0))\n",
    "y = Variable(np.array(1.0))\n",
    "z = matyas(x, y)\n",
    "z.backward()\n",
    "print(x.grad, y.grad)"
   ]
  },
  {
   "source": [
    "#### 24.3 Goldstein-Price 함수"
   ],
   "cell_type": "markdown",
   "metadata": {}
  },
  {
   "cell_type": "code",
   "execution_count": 7,
   "metadata": {},
   "outputs": [
    {
     "output_type": "stream",
     "name": "stdout",
     "text": [
      "-5376.0 8064.0\n"
     ]
    }
   ],
   "source": [
    "def goldstein(x, y):\n",
    "    z = (1 + (x + y + 1)**2 * (19 - 14*x + 3*x**2 - 14*y + 6*x*y + 3*y**2)) * \\\n",
    "        (30 + (2*x - 3*y)**2 * (18 - 32*x + 12*x**2 + 48*y - 36*x*y + 27*y**2))\n",
    "    return z\n",
    "\n",
    "x = Variable(np.array(1.0))\n",
    "y = Variable(np.array(1.0))\n",
    "z = goldstein(x, y)  # sphere(x, y) / matyas(x, y)\n",
    "z.backward()\n",
    "print(x.grad, y.grad)"
   ]
  },
  {
   "cell_type": "code",
   "execution_count": null,
   "metadata": {},
   "outputs": [],
   "source": []
  }
 ]
}